{
 "cells": [
  {
   "cell_type": "markdown",
   "metadata": {},
   "source": [
    "## Plotting and Visualization"
   ]
  },
  {
   "cell_type": "markdown",
   "metadata": {},
   "source": [
    "Making plots and static or interactive visualizations is one of the most important tasks\n",
    "in data analysis. It may be a part of the exploratory process; for example, helping iden-\n",
    "tify outliers, needed data transformations, or coming up with ideas for models. For\n",
    "others, building an interactive visualization for the web using a toolkit like d3.js (http:\n",
    "//d3js.org/) may be the end goal. Python has many visualization tools (see the end of\n",
    "this chapter), but I’ll be mainly focused on matplotlib (http://matplotlib.sourceforge\n",
    ".net)."
   ]
  },
  {
   "cell_type": "code",
   "execution_count": 41,
   "metadata": {},
   "outputs": [
    {
     "data": {
      "text/plain": [
       "[<matplotlib.lines.Line2D at 0x1f22b53e780>]"
      ]
     },
     "execution_count": 41,
     "metadata": {},
     "output_type": "execute_result"
    }
   ],
   "source": [
    "import numpy as np\n",
    "import pandas as pd\n",
    "import matplotlib.pyplot as plt \n",
    "plt.plot(np.arange(100))"
   ]
  },
  {
   "cell_type": "code",
   "execution_count": 42,
   "metadata": {},
   "outputs": [
    {
     "data": {
      "text/plain": [
       "<matplotlib.figure.Figure at 0x1f22c87a780>"
      ]
     },
     "metadata": {},
     "output_type": "display_data"
    },
    {
     "data": {
      "image/png": "[encoded data removed]",
      "text/plain": [
       "<matplotlib.figure.Figure at 0x1f22ab4ab38>"
      ]
     },
     "metadata": {},
     "output_type": "display_data"
    }
   ],
   "source": [
    "plt.show()"
   ]
  },
  {
   "cell_type": "markdown",
   "metadata": {},
   "source": [
    "### Figures and Subplots"
   ]
  },
  {
   "cell_type": "code",
   "execution_count": 43,
   "metadata": {},
   "outputs": [
    {
     "data": {
      "image/png": "[encoded data removed]",
      "text/plain": [
       "<matplotlib.figure.Figure at 0x1f22b048d30>"
      ]
     },
     "metadata": {},
     "output_type": "display_data"
    }
   ],
   "source": [
    "## from numpy.random import randn\n",
    "\n",
    "fig = plt.figure()\n",
    "ax1 = fig.add_subplot(2, 2, 1)\n",
    "ax2 = fig.add_subplot(2, 2, 2)\n",
    "ax3 = fig.add_subplot(2, 2, 3)\n",
    "#ax4 = fig.add_subplot(2, 2, 4)\n",
    "\n",
    "plt.plot(randn(50).cumsum(), 'k--')\n",
    "_ = ax1.hist(randn(100), bins=20, color='c', alpha=0.3)\n",
    "ax2.scatter(np.arange(30), np.arange(30) + 3 * randn(30))\n",
    "# ax3.scatter(np.arange(30), np.arange(30) + 3 * randn(30))\n",
    "plt.show()"
   ]
  },
  {
   "cell_type": "code",
   "execution_count": 44,
   "metadata": {},
   "outputs": [],
   "source": [
    "fig, axes = plt.subplots(2, 3)"
   ]
  },
  {
   "cell_type": "code",
   "execution_count": 45,
   "metadata": {},
   "outputs": [
    {
     "data": {
      "text/plain": [
       "array([[<matplotlib.axes._subplots.AxesSubplot object at 0x000001F22B14A588>,\n",
       "        <matplotlib.axes._subplots.AxesSubplot object at 0x000001F22C806390>,\n",
       "        <matplotlib.axes._subplots.AxesSubplot object at 0x000001F22A7511D0>],\n",
       "       [<matplotlib.axes._subplots.AxesSubplot object at 0x000001F22B0F5DA0>,\n",
       "        <matplotlib.axes._subplots.AxesSubplot object at 0x000001F22C79D6A0>,\n",
       "        <matplotlib.axes._subplots.AxesSubplot object at 0x000001F22AF92CC0>]], dtype=object)"
      ]
     },
     "execution_count": 45,
     "metadata": {},
     "output_type": "execute_result"
    }
   ],
   "source": [
    "axes"
   ]
  },
  {
   "cell_type": "markdown",
   "metadata": {},
   "source": [
    "Table 8-1. pyplot.subplots options"
   ]
  },
  {
   "cell_type": "raw",
   "metadata": {},
   "source": [
    "Argument Description\n",
    "nrows    Number of rows of subplots\n",
    "ncols    Number of columns of subplots\n",
    "sharex   All subplots should use the same X-axis ticks (adjusting the xlim will affect all subplots)\n",
    "sharey   All subplots should use the same Y-axis ticks (adjusting the ylim will affect all subplots)\n",
    "subplot_kw **fig_kw  Dict of keywords for creating the additional keywords to subplots are used when creating the figure, such as plt.subplots(2, 2,figsize=(8, 6))"
   ]
  },
  {
   "cell_type": "markdown",
   "metadata": {},
   "source": [
    "### Adjusting the spacing around subplots"
   ]
  },
  {
   "cell_type": "markdown",
   "metadata": {},
   "source": [
    "By default matplotlib leaves a certain amount of padding around the outside of the\n",
    "subplots and spacing between subplots. This spacing is all specified relative to the\n",
    "height and width of the plot, so that if you resize the plot either programmatically or\n",
    "manually using the GUI window, the plot will dynamically adjust itself. The spacing\n",
    "can be most easily changed using the subplots_adjust Figure method, also available as\n",
    "a top-level function:"
   ]
  },
  {
   "cell_type": "code",
   "execution_count": 51,
   "metadata": {},
   "outputs": [
    {
     "data": {
      "image/png": "[encoded data removed]",
      "text/plain": [
       "<matplotlib.figure.Figure at 0x1f22dd23d68>"
      ]
     },
     "metadata": {},
     "output_type": "display_data"
    }
   ],
   "source": [
    "fig,axes = plt.subplots(2, 2, sharex=True, sharey=True)\n",
    "for i in range(2):\n",
    "    for j in range(2):\n",
    "        axes[i, j].hist(randn(500), bins=50, color='k', alpha=0.5)\n",
    "plt.subplots_adjust(wspace=0, hspace=0)\n",
    "plt.show()"
   ]
  },
  {
   "cell_type": "markdown",
   "metadata": {},
   "source": [
    "### Colors, Markers, and Line Styles"
   ]
  },
  {
   "cell_type": "code",
   "execution_count": 26,
   "metadata": {},
   "outputs": [
    {
     "data": {
      "image/png": "[encoded data removed]",
      "text/plain": [
       "<matplotlib.figure.Figure at 0x1f22b6cbb00>"
      ]
     },
     "metadata": {},
     "output_type": "display_data"
    }
   ],
   "source": [
    "plt.plot([1.5, 3.5, -2, 1.6])\n",
    "plt.show()"
   ]
  },
  {
   "cell_type": "code",
   "execution_count": null,
   "metadata": {
    "collapsed": true
   },
   "outputs": [],
   "source": []
  }
 ],
 "metadata": {
  "kernelspec": {
   "display_name": "Python 3",
   "language": "python",
   "name": "python3"
  },
  "language_info": {
   "codemirror_mode": {
    "name": "ipython",
    "version": 3
   },
   "file_extension": ".py",
   "mimetype": "text/x-python",
   "name": "python",
   "nbconvert_exporter": "python",
   "pygments_lexer": "ipython3",
   "version": "3.6.1"
  }
 },
 "nbformat": 4,
 "nbformat_minor": 2
}
