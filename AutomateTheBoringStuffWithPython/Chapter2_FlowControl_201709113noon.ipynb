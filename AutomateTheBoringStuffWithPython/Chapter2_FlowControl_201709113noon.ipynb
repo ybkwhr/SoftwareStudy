{
 "cells": [
  {
   "cell_type": "markdown",
   "metadata": {},
   "source": [
    "So\tyou\tknow\tthe\tbasics\tof\tindividual\tinstructions\tand\tthat\ta\tprogram\tis\tjust\ta\tseries\tof\n",
    "instructions.\tBut\tthe\treal\tstrength\tof\tprogramming\tisn’t\tjust\trunning\t(or\texecuting)\tone\n",
    "instruction\tafter\tanother\tlike\ta\tweekend\terrand\tlist.\tBased\ton\thow\tthe\texpressions\n",
    "evaluate,\tthe\tprogram\tcan\tdecide\tto\tskip\tinstructions,\trepeat\tthem,\tor\tchoose\tone\tof\n",
    "several\tinstructions\tto\trun.\tIn\tfact,\tyou\talmost\tnever\twant\tyour\tprograms\tto\tstart\tfrom\tthe\n",
    "first\tline\tof\tcode\tand\tsimply\texecute\tevery\tline,\tstraight\tto\tthe\tend.\tFlow\tcontrol\n",
    "statements\tcan\tdecide\twhich\tPython\tinstructions\tto\texecute\tunder\twhich\tconditions"
   ]
  },
  {
   "cell_type": "markdown",
   "metadata": {},
   "source": [
    "In\ta\tflowchart,\tthere\tis\tusually\tmore\tthan\tone\tway\tto\tgo\tfrom\tthe\tstart\tto\tthe\tend.\tThe\n",
    "same\tis\ttrue\tfor\tlines\tof\tcode\tin\ta\tcomputer\tprogram.\tFlowcharts\trepresent\tthese\tbranching\n",
    "points\twith\tdiamonds,\twhile\tthe\tother\tsteps\tare\trepresented\twith\trectangles.\tThe\tstarting\n",
    "and\tending\tsteps\tare\trepresented\twith\trounded\trectangles"
   ]
  },
  {
   "cell_type": "markdown",
   "metadata": {},
   "source": [
    "## Boolean\tValues"
   ]
  },
  {
   "cell_type": "code",
   "execution_count": 1,
   "metadata": {
    "collapsed": true
   },
   "outputs": [],
   "source": [
    "spam = True\n"
   ]
  },
  {
   "cell_type": "code",
   "execution_count": 2,
   "metadata": {
    "collapsed": false
   },
   "outputs": [
    {
     "data": {
      "text/plain": [
       "True"
      ]
     },
     "execution_count": 2,
     "metadata": {},
     "output_type": "execute_result"
    }
   ],
   "source": [
    "spam\n"
   ]
  },
  {
   "cell_type": "code",
   "execution_count": 3,
   "metadata": {
    "collapsed": false
   },
   "outputs": [
    {
     "ename": "SyntaxError",
     "evalue": "can't assign to keyword (<ipython-input-3-5f87ef2f4024>, line 1)",
     "output_type": "error",
     "traceback": [
      "\u001b[0;36m  File \u001b[0;32m\"<ipython-input-3-5f87ef2f4024>\"\u001b[0;36m, line \u001b[0;32m1\u001b[0m\n\u001b[0;31m    True = 2 + 2\u001b[0m\n\u001b[0m                ^\u001b[0m\n\u001b[0;31mSyntaxError\u001b[0m\u001b[0;31m:\u001b[0m can't assign to keyword\n"
     ]
    }
   ],
   "source": [
    "True = 2 + 2"
   ]
  },
  {
   "cell_type": "code",
   "execution_count": 5,
   "metadata": {
    "collapsed": false
   },
   "outputs": [
    {
     "data": {
      "text/plain": [
       "True"
      ]
     },
     "execution_count": 5,
     "metadata": {},
     "output_type": "execute_result"
    }
   ],
   "source": [
    "'hello' == 'hello'"
   ]
  },
  {
   "cell_type": "code",
   "execution_count": 7,
   "metadata": {
    "collapsed": false
   },
   "outputs": [
    {
     "data": {
      "text/plain": [
       "False"
      ]
     },
     "execution_count": 7,
     "metadata": {},
     "output_type": "execute_result"
    }
   ],
   "source": [
    "42 == '42'"
   ]
  },
  {
   "cell_type": "code",
   "execution_count": 8,
   "metadata": {
    "collapsed": false
   },
   "outputs": [
    {
     "name": "stdout",
     "output_type": "stream",
     "text": [
      "spam\n"
     ]
    }
   ],
   "source": [
    "spam = 0\n",
    "if spam == 10:\n",
    "    print('eggs')\n",
    "    if spam > 5:\n",
    "        print('bacon')\n",
    "    else:\n",
    "        print('ham')\n",
    "    print('spam')\n",
    "print('spam')"
   ]
  },
  {
   "cell_type": "code",
   "execution_count": 22,
   "metadata": {
    "collapsed": false
   },
   "outputs": [
    {
     "name": "stdout",
     "output_type": "stream",
     "text": [
      "please input the number: 6\n",
      "Greetings!\n"
     ]
    }
   ],
   "source": [
    "spam = int(input('please input the number: '))\n",
    "if spam == 1:\n",
    "M    print('Hello')\n",
    "elif spam == 2:\n",
    "    print('Howdy')\n",
    "else:\n",
    "    print('Greetings!')"
   ]
  },
  {
   "cell_type": "code",
   "execution_count": 23,
   "metadata": {
    "collapsed": false
   },
   "outputs": [
    {
     "name": "stdout",
     "output_type": "stream",
     "text": [
      "0\n",
      "1\n",
      "2\n",
      "3\n",
      "4\n",
      "5\n",
      "6\n",
      "7\n",
      "8\n",
      "9\n",
      "10\n"
     ]
    }
   ],
   "source": [
    "for i in range(0,11):\n",
    "    print(i)"
   ]
  },
  {
   "cell_type": "code",
   "execution_count": null,
   "metadata": {
    "collapsed": true
   },
   "outputs": [],
   "source": []
  }
 ],
 "metadata": {
  "anaconda-cloud": {},
  "kernelspec": {
   "display_name": "Python [default]",
   "language": "python",
   "name": "python3"
  },
  "language_info": {
   "codemirror_mode": {
    "name": "ipython",
    "version": 3
   },
   "file_extension": ".py",
   "mimetype": "text/x-python",
   "name": "python",
   "nbconvert_exporter": "python",
   "pygments_lexer": "ipython3",
   "version": "3.5.2"
  }
 },
 "nbformat": 4,
 "nbformat_minor": 1
}
