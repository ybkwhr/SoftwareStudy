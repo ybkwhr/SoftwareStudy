{
 "cells": [
  {
   "cell_type": "code",
   "execution_count": 5,
   "metadata": {
    "collapsed": false
   },
   "outputs": [
    {
     "name": "stdout",
     "output_type": "stream",
     "text": [
      "Hello World\n",
      "what is your name?\n",
      "yuan bk\n",
      "It is good to meet you, yuan bk\n",
      "The length of your name is:\n",
      "7\n",
      "What is your age?\n",
      "32\n",
      "You will be 33 in a year.\n"
     ]
    }
   ],
   "source": [
    "# This program says hello and asks for my name.\n",
    "print('Hello World')\n",
    "print('what is your name?')\n",
    "myName = input()\n",
    "print('It is good to meet you, ' + myName)\n",
    "print('The length of your name is:')\n",
    "print(len(myName))\n",
    "print('What is your age?') # ask for their age\n",
    "myAge = input()\n",
    "print('You will be ' + str(int(myAge) + 1) + ' in a year.')"
   ]
  },
  {
   "cell_type": "markdown",
   "metadata": {},
   "source": [
    "## Dissecting\tYour\tProgram"
   ]
  },
  {
   "cell_type": "code",
   "execution_count": 6,
   "metadata": {
    "collapsed": false
   },
   "outputs": [
    {
     "name": "stdout",
     "output_type": "stream",
     "text": [
      "I am 29 years old.\n"
     ]
    }
   ],
   "source": [
    "print('I am ' +str(29) + ' years old.')"
   ]
  },
  {
   "cell_type": "code",
   "execution_count": 10,
   "metadata": {
    "collapsed": false
   },
   "outputs": [
    {
     "data": {
      "text/plain": [
       "('0', 45, 3.14, 10.0, 1)"
      ]
     },
     "execution_count": 10,
     "metadata": {},
     "output_type": "execute_result"
    }
   ],
   "source": [
    "str(0), int('45'), float('3.14'), float(10), int(1.25)"
   ]
  },
  {
   "cell_type": "code",
   "execution_count": null,
   "metadata": {
    "collapsed": true
   },
   "outputs": [],
   "source": [
    ""
   ]
  }
 ],
 "metadata": {
  "anaconda-cloud": {},
  "kernelspec": {
   "display_name": "Python [conda root]",
   "language": "python",
   "name": "conda-root-py"
  },
  "language_info": {
   "codemirror_mode": {
    "name": "ipython",
    "version": 3.0
   },
   "file_extension": ".py",
   "mimetype": "text/x-python",
   "name": "python",
   "nbconvert_exporter": "python",
   "pygments_lexer": "ipython3",
   "version": "3.5.2"
  }
 },
 "nbformat": 4,
 "nbformat_minor": 0
}