{
 "cells": [
  {
   "cell_type": "code",
   "execution_count": null,
   "metadata": {
    "collapsed": true
   },
   "outputs": [],
   "source": [
    "def hello():\n",
    "    print('Howdy')\n",
    "    print('Howdy')\n",
    "    print('Howdy')"
   ]
  },
  {
   "cell_type": "code",
   "execution_count": null,
   "metadata": {
    "collapsed": false
   },
   "outputs": [],
   "source": [
    "hello()"
   ]
  },
  {
   "cell_type": "code",
   "execution_count": null,
   "metadata": {
    "collapsed": false
   },
   "outputs": [],
   "source": [
    "hello()\n",
    "hello()\n",
    "hello()"
   ]
  },
  {
   "cell_type": "code",
   "execution_count": null,
   "metadata": {
    "collapsed": true
   },
   "outputs": [],
   "source": [
    "def hello(name):\n",
    "    print('Hello ' + name)"
   ]
  },
  {
   "cell_type": "code",
   "execution_count": null,
   "metadata": {
    "collapsed": false
   },
   "outputs": [],
   "source": [
    "hello('Alice')"
   ]
  },
  {
   "cell_type": "code",
   "execution_count": null,
   "metadata": {
    "collapsed": false
   },
   "outputs": [],
   "source": [
    "hello('mary')"
   ]
  },
  {
   "cell_type": "code",
   "execution_count": null,
   "metadata": {
    "collapsed": false
   },
   "outputs": [],
   "source": [
    "print('mary')"
   ]
  },
  {
   "cell_type": "code",
   "execution_count": null,
   "metadata": {
    "collapsed": false
   },
   "outputs": [],
   "source": [
    "print(name)"
   ]
  },
  {
   "cell_type": "markdown",
   "metadata": {},
   "source": [
    "One\tspecial\tthing\tto\tnote\tabout\tparameters\tis\tthat\tthe\tvalue\tstored\tin\ta\tparameter\tis\n",
    "forgotten\twhen\tthe\tfunction\treturns.\tFor\texample,\tif\tyou\tadded\tprint(name)\tafter\n",
    "hello('Bob')\tin\tthe\tprevious\tprogram,\tthe\tprogram\twould\tgive\tyou\ta\tNameError\tbecause\n",
    "there\tis\tno\tvariable\tnamed\tname.\tThis\tvariable\twas\tdestroyed\tafter\tthe\tfunction\tcall\n",
    "hello('Bob')\thad\treturned,\tso\tprint(name)\twould\trefer\tto\ta\tname\tvariable\tthat\tdoes\tnot\n",
    "exist."
   ]
  },
  {
   "cell_type": "markdown",
   "metadata": {
    "collapsed": true
   },
   "source": [
    "## Return\tValues\tand\treturn\tStatements"
   ]
  },
  {
   "cell_type": "markdown",
   "metadata": {},
   "source": [
    "When\tyou\tcall\tthe\tlen()\tfunction\tand\tpass\tit\tan\targument\tsuch\tas\t'Hello',\tthe\tfunction\n",
    "call\tevaluates\tto\tthe\tinteger\tvalue\t5,\twhich\tis\tthe\tlength\tof\tthe\tstring\tyou\tpassed\tit.\tIn\n",
    "general,\tthe\tvalue\tthat\ta\tfunction\tcall\tevaluates\tto\tis\tcalled\tthe\treturn\tvalue\tof\tthe\tfunction"
   ]
  },
  {
   "cell_type": "code",
   "execution_count": null,
   "metadata": {
    "collapsed": false
   },
   "outputs": [],
   "source": [
    "import random\n",
    "def getAnswer(answerNumber):\n",
    "    if answerNumber == 1:\n",
    "        return 'It is certain'\n",
    "    elif answerNumber == 2:\n",
    "        return 'It is decidedly so'\n",
    "    elif answerNumber == 3:\n",
    "        return 'Yes'\n",
    "    elif answerNumber == 4:\n",
    "        return 'Reply hazy try again'\n",
    "    elif answerNumber == 5:\n",
    "        return 'Ask again later'\n",
    "    elif answerNumber == 6:\n",
    "        return 'Concentrate and ask again'\n",
    "    elif answerNumber == 7:\n",
    "        return 'My reoly is no'\n",
    "    elif answerNumber == 8:\n",
    "        return 'Outlook not so good'\n",
    "    elif answerNumber == 9:\n",
    "        return 'Very doubtful'\n",
    "r = random.randint(1, 9)\n",
    "forturn = getAnswer(r)\n",
    "print(forturn)"
   ]
  },
  {
   "cell_type": "code",
   "execution_count": null,
   "metadata": {
    "collapsed": false
   },
   "outputs": [],
   "source": [
    "?random.uniform"
   ]
  },
  {
   "cell_type": "markdown",
   "metadata": {},
   "source": [
    "## The\tNone\tValue"
   ]
  },
  {
   "cell_type": "code",
   "execution_count": null,
   "metadata": {
    "collapsed": false
   },
   "outputs": [],
   "source": [
    "spam = print('Hello')"
   ]
  },
  {
   "cell_type": "code",
   "execution_count": null,
   "metadata": {
    "collapsed": false
   },
   "outputs": [],
   "source": [
    "None == spam"
   ]
  },
  {
   "cell_type": "markdown",
   "metadata": {},
   "source": [
    "## Keyword\tArguments\tand\tprint()"
   ]
  },
  {
   "cell_type": "code",
   "execution_count": null,
   "metadata": {
    "collapsed": false
   },
   "outputs": [],
   "source": [
    "print('cats', 'dogs', 'mice')"
   ]
  },
  {
   "cell_type": "code",
   "execution_count": null,
   "metadata": {
    "collapsed": false
   },
   "outputs": [],
   "source": [
    "print('cats', 'dogs', 'mice', sep=', ')"
   ]
  },
  {
   "cell_type": "markdown",
   "metadata": {},
   "source": [
    "## Local\tand\tGlobal\tScope"
   ]
  },
  {
   "cell_type": "markdown",
   "metadata": {},
   "source": [
    "Parameters\tand\tvariables\tthat\tare\tassigned\tin\ta\tcalled\tfunction\tare\tsaid\tto\texist\tin\tthat\n",
    "function’s\tlocal\tscope.\tVariables\tthat\tare\tassigned\toutside\tall\tfunctions\tare\tsaid\tto\texist\tin\n",
    "the\tglobal\tscope.\tA\tvariable\tthat\texists\tin\ta\tlocal\tscope\tis\tcalled\ta\tlocal\tvariable,\twhile\ta\n",
    "variable\tthat\texists\tin\tthe\tglobal\tscope\tis\tcalled\ta\tglobal\tvariable.\tA\tvariable\tmust\tbe\tone\n",
    "or\tthe\tother;\tit\tcannot\tbe\tboth\tlocal\tand\tglobal"
   ]
  },
  {
   "cell_type": "markdown",
   "metadata": {},
   "source": [
    "While\tusing\tglobal\tvariables\tin\tsmall\tprograms\tis\tfine,\tit\tis\ta\tbad\thabit\tto\trely\ton\tglobal\n",
    "variables\tas\tyour\tprograms\tget\tlarger\tand\tlarger"
   ]
  },
  {
   "cell_type": "markdown",
   "metadata": {},
   "source": [
    "## Local\tVariables\tCannot\tBe\tUsed\tin\tthe\tGlobal\tScope"
   ]
  },
  {
   "cell_type": "code",
   "execution_count": null,
   "metadata": {
    "collapsed": false
   },
   "outputs": [],
   "source": [
    "def spam():\n",
    "    eggs = 31337\n",
    "spam()\n",
    "print(eggs)"
   ]
  },
  {
   "cell_type": "markdown",
   "metadata": {},
   "source": [
    "The\terror\thappens\tbecause\tthe\teggs\tvariable\texists\tonly\tin\tthe\tlocal\tscope\tcreated\twhen\n",
    "spam()\tis\tcalled.\tOnce\tthe\tprogram\texecution\treturns\tfrom\tspam,\tthat\tlocal\tscope\tis\n",
    "destroyed,\tand\tthere\tis\tno\tlonger\ta\tvariable\tnamed\teggs.\tSo\twhen\tyour\tprogram\ttries\tto\n",
    "run\tprint(eggs),\tPython\tgives\tyou\tan\terror\tsaying\tthat\teggs\tis\tnot\tdefined.\tThis\tmakes\n",
    "sense\tif\tyou\tthink\tabout\tit;\twhen\tthe\tprogram\texecution\tis\tin\tthe\tglobal\tscope,\tno\tlocal\n",
    "scopes\texist,\tso\tthere\tcan’t\tbe\tany\tlocal\tvariables.\tThis\tis\twhy\tonly\tglobal\tvariables\tcan\tbe\n",
    "used\tin\tthe\tglobal\tscope"
   ]
  },
  {
   "cell_type": "markdown",
   "metadata": {},
   "source": [
    "## Local\tScopes\tCannot\tUse\tVariables\tin\tOther\tLocal\tScopes"
   ]
  },
  {
   "cell_type": "code",
   "execution_count": null,
   "metadata": {
    "collapsed": false
   },
   "outputs": [],
   "source": [
    "def spam():\n",
    "    eggs = 99\n",
    "    bacon()\n",
    "    print(eggs)\n",
    "    \n",
    "def bacon():\n",
    "    ham = 101\n",
    "    eggs = 0\n",
    "spam()"
   ]
  },
  {
   "cell_type": "markdown",
   "metadata": {},
   "source": [
    "## Global\tVariables\tCan\tBe\tRead\tfrom\ta\tLocal\tScope"
   ]
  },
  {
   "cell_type": "code",
   "execution_count": null,
   "metadata": {
    "collapsed": false
   },
   "outputs": [],
   "source": [
    "def spam():\n",
    "    print(eggs)\n",
    "eggs = 42\n",
    "spam()\n",
    "print(eggs)"
   ]
  },
  {
   "cell_type": "markdown",
   "metadata": {},
   "source": [
    "## Local\tand\tGlobal\tVariables\twith\tthe\tSame\tName"
   ]
  },
  {
   "cell_type": "markdown",
   "metadata": {},
   "source": [
    "To\tsimplify\tyour\tlife,\tavoid\tusing\tlocal\tvariables\tthat\thave\tthe\tsame\tname\tas\ta\tglobal\n",
    "variable\tor\tanother\tlocal\tvariable.\tBut\ttechnically,\tit’s\tperfectly\tlegal\tto\tdo\tso\tin\tPython.\n",
    "To\tsee\twhat\thappens,\ttype\tthe\tfollowing\tcode\tinto\tthe\tfile\teditor\tand\tsave\tit\tassameName.py"
   ]
  },
  {
   "cell_type": "code",
   "execution_count": null,
   "metadata": {
    "collapsed": false
   },
   "outputs": [],
   "source": [
    "def spam():\n",
    "    eggs = 'spam local'\n",
    "    print(eggs)\n",
    "def bacon():\n",
    "    eggs = 'bacon local'\n",
    "    print(eggs)\n",
    "    spam()\n",
    "    print(eggs)\n",
    "        \n",
    "eggs = 'global'\n",
    "bacon()\n",
    "print(eggs)"
   ]
  },
  {
   "cell_type": "markdown",
   "metadata": {
    "collapsed": true
   },
   "source": [
    "## The\tglobal\tStatement"
   ]
  },
  {
   "cell_type": "code",
   "execution_count": null,
   "metadata": {
    "collapsed": false
   },
   "outputs": [],
   "source": [
    "def apam():\n",
    "    global eggs\n",
    "    eggs = 'spam'\n",
    "    \n",
    "eggs = 'global'\n",
    "apam()\n",
    "print(eggs)"
   ]
  },
  {
   "cell_type": "markdown",
   "metadata": {},
   "source": [
    "## Exception\tHandling"
   ]
  },
  {
   "cell_type": "markdown",
   "metadata": {},
   "source": [
    "Right\tnow,\tgetting\tan\terror,\tor\texception,\tin\tyour\tPython\tprogram\tmeans\tthe\tentire\n",
    "program\twill\tcrash.\tYou\tdon’t\twant\tthis\tto\thappen\tin\treal-world\tprograms.\tInstead,\tyou\n",
    "want\tthe\tprogram\tto\tdetect\terrors,\thandle\tthem,\tand\tthen\tcontinue\tto\trun"
   ]
  },
  {
   "cell_type": "code",
   "execution_count": null,
   "metadata": {
    "collapsed": false
   },
   "outputs": [],
   "source": [
    "def spam(devideBy):\n",
    "    return 42 / divideBy\n",
    "    \n",
    "print(spam(2))\n",
    "print(spam(12))\n",
    "print(spam(0))\n",
    "print(spam(1))"
   ]
  },
  {
   "cell_type": "markdown",
   "metadata": {},
   "source": [
    "Errors\tcan\tbe\thandled\twith try and except\tstatementss.\tThe\tcode\tthat\tcould\tpotentially\n",
    "have\tan\terror\tis\tput\tin\ta\ttry\tclause.\tThe\tprogram\texecution\t     moves\tto\tthe\tstart\tof\ta\n",
    "following\texcept\tclause\tif\tan\terror\thappens."
   ]
  },
  {
   "cell_type": "code",
   "execution_count": null,
   "metadata": {
    "collapsed": false
   },
   "outputs": [],
   "source": [
    "def spam(divideBy):\n",
    "    try:\n",
    "        return 42 / divideBy\n",
    "    except ZeroDivisionError:\n",
    "        print('Error: Invalid argument')\n",
    "        \n",
    "print(spam(2))  \n",
    "print(spam(12))\n",
    "print(spam(0))\n",
    "print(spam(1))"
   ]
  },
  {
   "cell_type": "markdown",
   "metadata": {},
   "source": [
    "## A\tShort\tProgram:\tGuess\tthe\tNumber"
   ]
  },
  {
   "cell_type": "markdown",
   "metadata": {},
   "source": [
    "The\ttoy\texamples\tI’ve\tshow\tyou\tso\tfar\tare\tuseful\tfor\tintroducing\tbasic\tconcepts,\tbut\tnow\n",
    "let’s\tsee\thow\teverything\tyou’ve\tlearned\tcomes\ttogether\tin\ta\tmore\tcomplete\tprogram.\tIn\n",
    "this\tsection,\tI’ll\tshow\tyou\ta\tsimple\t“guess\tthe\tnumber”\tgame.\tWhen\tyou\trun\tthis\tprogram,\n",
    "the\toutput\twill\tlook\tsomething\tlike\tthis"
   ]
  },
  {
   "cell_type": "code",
   "execution_count": null,
   "metadata": {
    "collapsed": false
   },
   "outputs": [],
   "source": [
    "import random\n",
    "def guessTheNumber():\n",
    "    num_random = random.randint(1, 21)\n",
    "    guess_counter = 1\n",
    "    print('I am thinking of a number between 1 and 20.')\n",
    "    print('Take a guess')\n",
    "    num_guess = int(input())\n",
    "    while num_guess != num_random:\n",
    "        guess_counter += 1\n",
    "        if num_guess < num_random:\n",
    "            print('Your guess is too low.')\n",
    "        else:\n",
    "            print('Your guess is too high.')\n",
    "        num_guess = int(input())\n",
    "    else:\n",
    "        print('Goodjob!, You guessed my number in %d guesses!' % guess_counter )"
   ]
  },
  {
   "cell_type": "code",
   "execution_count": null,
   "metadata": {
    "collapsed": false
   },
   "outputs": [],
   "source": [
    "guessTheNumber()"
   ]
  },
  {
   "cell_type": "code",
   "execution_count": null,
   "metadata": {
    "collapsed": false
   },
   "outputs": [],
   "source": [
    "# This is a guess the number game.\n",
    "import random\n",
    "secretNumber = random.randint(1, 20)\n",
    "print('I am thinking of a number between 1 and 20.')\n",
    "\n",
    "#Ask the player to guess the 6 times.\n",
    "for guessesTaken in range(1, 20):\n",
    "    print('Take a guess. ')\n",
    "    guess = int(input())\n",
    "    \n",
    "    if guess < secretNumber:\n",
    "        print('Yor guess is too lower.')\n",
    "    elif guess > secretNumber:\n",
    "            print('Your guess is too high.')\n",
    "    else:\n",
    "        break\n",
    "\n",
    "if guess == secretNumber:\n",
    "    print('Good job!, You guess my number in ' + str(guessesTaken) + ' guesses!.')\n",
    "else:\n",
    "    print('Nope. the number I was think od was ' + str(secretNumber))\n",
    "        "
   ]
  },
  {
   "cell_type": "code",
   "execution_count": null,
   "metadata": {
    "collapsed": true
   },
   "outputs": [],
   "source": []
  }
 ],
 "metadata": {
  "anaconda-cloud": {},
  "kernelspec": {
   "display_name": "Python [conda root]",
   "language": "python",
   "name": "conda-root-py"
  },
  "language_info": {
   "codemirror_mode": {
    "name": "ipython",
    "version": 3
   },
   "file_extension": ".py",
   "mimetype": "text/x-python",
   "name": "python",
   "nbconvert_exporter": "python",
   "pygments_lexer": "ipython3",
   "version": "3.5.2"
  }
 },
 "nbformat": 4,
 "nbformat_minor": 0
}
